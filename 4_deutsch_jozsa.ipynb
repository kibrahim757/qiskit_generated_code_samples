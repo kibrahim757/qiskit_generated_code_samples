{
 "cells": [
  {
   "cell_type": "code",
   "execution_count": null,
   "id": "8e1336b0",
   "metadata": {},
   "outputs": [],
   "source": [
    "# import quantum circuit for Deutsch-Jozsa algorithm\n",
    "from qiskit import QuantumCircuit\n",
    "from qiskit.visualization import plot_histogram\n",
    "from qiskit_ibm_runtime import QiskitRuntimeService\n",
    "from qiskit.transpiler.preset_passmanagers import generate_preset_pass_manager\n",
    "from qiskit_ibm_runtime import SamplerV2  as Sampler\n",
    "# Initialize the Qiskit Runtime Service\n",
    "from test_utils import read_account_file"
   ]
  },
  {
   "cell_type": "code",
   "execution_count": null,
   "id": "3949ad06",
   "metadata": {},
   "outputs": [],
   "source": [
    "account = read_account_file('account_info.conf')\n",
    "service = QiskitRuntimeService(channel=\"ibm_cloud\", instance=account['instance'], token=account['token'])\n",
    "backend = service.least_busy()\n",
    "print(f\"Using backend: {backend.name}\")"
   ]
  },
  {
   "cell_type": "code",
   "execution_count": null,
   "id": "2ffea558",
   "metadata": {},
   "outputs": [],
   "source": [
    "# Create a quantum circuit for Deutsch-Jozsa algorithm\n",
    "qc = QuantumCircuit(5, 1)  # 5 qubits, 1 classical bit\n",
    "qc.h(range(4))  # Apply Hadamard gate to the first 4 qubits\n",
    "qc.x(4)  # Set the last qubit to |1>\n",
    "qc.h(4)  # Apply Hadamard gate to the last qubit\n",
    "qc.barrier()  # Add a barrier for clarity\n",
    "qc.draw(\"mpl\")  # Draw the circuit\n",
    "#Create a random oracle for Deutsch-Jozsa algorithm\n",
    "def random_oracle(case,qc):\n",
    "    if case == \"constant\":\n",
    "        # Implement a constant oracle f(x) = 0\n",
    "        pass  # No gates needed for constant function\n",
    "    elif case == \"balanced\":\n",
    "        # Implement a balanced oracle f(x) = x1 XOR x2\n",
    "        qc.cx(0, 4)\n",
    "        qc.cx(1, 4)\n",
    "        qc.cx(2, 4)\n",
    "        qc.cx(3, 4)\n",
    "    else:\n",
    "        raise ValueError(\"Invalid case. Use 'constant' or 'balanced'.\")\n",
    "\n",
    "# Apply the random oracle to the circuit\n",
    "#random_oracle(\"constant\", qc)  # Use \"constant\" or \"balanced\" as needed\n",
    "random_oracle(\"balanced\", qc)  # Use \"constant\" or \"balanced\" as needed\n",
    "qc.barrier()  # Add a barrier after the oracle\n",
    "# Apply Hadamard gates again to the first 4 qubits\n",
    "qc.h(range(4))\n",
    "# Measure the first qubit\n",
    "qc.measure(0, 0)  # Measure the first qubit into the classical bit\n",
    "qc.draw(\"mpl\")  # Draw the circuit after measurement"
   ]
  },
  {
   "cell_type": "code",
   "execution_count": null,
   "id": "95083b85",
   "metadata": {},
   "outputs": [],
   "source": [
    "# Transpile the circuit using a preset pass manager\n",
    "pm = generate_preset_pass_manager(backend=backend, optimization_level=3)\n",
    "# Transpile the circuit\n",
    "transpiled_circuit = pm.run(qc)\n",
    "transpiled_circuit.draw(\"mpl\")  # Draw the transpiled circuit\n",
    "# Create a sampler instance\n",
    "sampler = Sampler(mode=backend)\n",
    "# Sample the transpiled circuit\n",
    "job = sampler.run([transpiled_circuit], shots=1024)\n",
    "print(f\"Job ID: {job.job_id()}\")"
   ]
  },
  {
   "cell_type": "code",
   "execution_count": null,
   "id": "1d0667eb",
   "metadata": {},
   "outputs": [],
   "source": [
    "# Get the results\n",
    "results = job.result()\n",
    "# Plot the histogram of results using cregisters\n",
    "counts = results[0].data.c.get_counts()\n",
    "# Plot the histogram\n",
    "plot_histogram(counts, title=\"Deutsch-Jozsa Algorithm Results\")\n",
    "\n"
   ]
  }
 ],
 "metadata": {
  "language_info": {
   "name": "python"
  }
 },
 "nbformat": 4,
 "nbformat_minor": 5
}
