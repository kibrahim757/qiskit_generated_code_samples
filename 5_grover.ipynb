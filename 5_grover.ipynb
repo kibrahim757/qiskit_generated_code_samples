{
 "cells": [
  {
   "cell_type": "code",
   "execution_count": 1,
   "id": "c3ba4ebb",
   "metadata": {},
   "outputs": [],
   "source": [
    "# import qiskit \n",
    "from qiskit.visualization import plot_histogram\n",
    "from qiskit.circuit.library import GroverOperator\n",
    "from qiskit.circuit import QuantumCircuit, ClassicalRegister, QuantumRegister\n",
    "from qiskit_ibm_runtime import QiskitRuntimeService\n",
    "from qiskit.transpiler.preset_passmanagers import generate_preset_pass_manager\n",
    "from qiskit_ibm_runtime import SamplerV2  as Sampler\n",
    "# Initialize the Qiskit Runtime Service\n",
    "from test_utils import read_account_file"
   ]
  },
  {
   "cell_type": "code",
   "execution_count": null,
   "id": "a845fbee",
   "metadata": {},
   "outputs": [],
   "source": [
    "def grover_search(n, oracle):\n",
    "    \"\"\"\n",
    "    Perform Grover's search algorithm.\n",
    "\n",
    "    Parameters:\n",
    "    n (int): Number of qubits.\n",
    "    oracle (QuantumCircuit): Oracle circuit that marks the solution.\n",
    "\n",
    "    Returns:\n",
    "    QuantumCircuit: The Grover search circuit.\n",
    "    \"\"\"\n",
    "    # Create quantum and classical registers\n",
    "    qr = QuantumRegister(n, 'q')\n",
    "    cr = ClassicalRegister(n, 'c')\n",
    "    \n",
    "    # Create the Grover circuit\n",
    "    grover_circuit = QuantumCircuit(qr, cr)\n",
    "    \n",
    "    # Initialize qubits to |+>\n",
    "    for i in range(n):\n",
    "        grover_circuit.h(qr[i])\n",
    "    \n",
    "    # Apply the oracle\n",
    "    grover_circuit.compose(oracle,inplace=True)\n",
    "    \n",
    "    # Apply the Grover diffusion operator\n",
    "    grover_circuit.append(GroverOperator(n).to_instruction(), qr)\n",
    "    \n",
    "    # Measure the qubits\n",
    "    grover_circuit.measure(qr, cr)\n",
    "    \n",
    "    return grover_circuit"
   ]
  },
  {
   "cell_type": "code",
   "execution_count": 3,
   "id": "67d2f268",
   "metadata": {},
   "outputs": [],
   "source": [
    "def run_grover_search(backend,n, oracle):\n",
    "    \"\"\"\n",
    "    Run Grover's search algorithm and return the results.\n",
    "\n",
    "    Parameters:\n",
    "    n (int): Number of qubits.\n",
    "    oracle (QuantumCircuit): Oracle circuit that marks the solution.\n",
    "\n",
    "    Returns:\n",
    "    dict: Measurement results.\n",
    "    \"\"\"\n",
    "    # Create the Grover search circuit\n",
    "    grover_circuit = grover_search(n, oracle)\n",
    "    \n",
    "    pm = generate_preset_pass_manager(backend=backend, optimization_level=3)\n",
    "    # Transpile the circuit\n",
    "    transpiled_circuit = pm.run(grover_circuit)\n",
    "    transpiled_circuit.draw(\"mpl\")  # Draw the transpiled circuit\n",
    "    # Create a sampler instance\n",
    "    sampler = Sampler(mode=backend)\n",
    "    # Sample the transpiled circuit\n",
    "    job = sampler.run([transpiled_circuit], shots=1024)\n",
    "    \n",
    "    return job"
   ]
  },
  {
   "cell_type": "code",
   "execution_count": 9,
   "id": "10c36ba9",
   "metadata": {},
   "outputs": [
    {
     "name": "stdout",
     "output_type": "stream",
     "text": [
      "Using backend: ibm_torino\n"
     ]
    },
    {
     "ename": "AttributeError",
     "evalue": "'int' object has no attribute 'num_qubits'",
     "output_type": "error",
     "traceback": [
      "\u001b[31m---------------------------------------------------------------------------\u001b[39m",
      "\u001b[31mAttributeError\u001b[39m                            Traceback (most recent call last)",
      "\u001b[36mCell\u001b[39m\u001b[36m \u001b[39m\u001b[32mIn[9]\u001b[39m\u001b[32m, line 23\u001b[39m\n\u001b[32m     19\u001b[39m \u001b[38;5;28mprint\u001b[39m(\u001b[33mf\u001b[39m\u001b[33m\"\u001b[39m\u001b[33mUsing backend: \u001b[39m\u001b[38;5;132;01m{\u001b[39;00mbackend.name\u001b[38;5;132;01m}\u001b[39;00m\u001b[33m\"\u001b[39m)\n\u001b[32m     21\u001b[39m \u001b[38;5;66;03m# Run Grover's search\u001b[39;00m\n\u001b[32m---> \u001b[39m\u001b[32m23\u001b[39m job = \u001b[43mrun_grover_search\u001b[49m\u001b[43m(\u001b[49m\u001b[43mbackend\u001b[49m\u001b[43m,\u001b[49m\u001b[43mn\u001b[49m\u001b[43m,\u001b[49m\u001b[43m \u001b[49m\u001b[43moracle\u001b[49m\u001b[43m)\u001b[49m\n\u001b[32m     25\u001b[39m \u001b[38;5;28mprint\u001b[39m(\u001b[33mf\u001b[39m\u001b[33m\"\u001b[39m\u001b[33mJob ID: \u001b[39m\u001b[38;5;132;01m{\u001b[39;00mjob.job_id()\u001b[38;5;132;01m}\u001b[39;00m\u001b[33m\"\u001b[39m)    \n",
      "\u001b[36mCell\u001b[39m\u001b[36m \u001b[39m\u001b[32mIn[3]\u001b[39m\u001b[32m, line 13\u001b[39m, in \u001b[36mrun_grover_search\u001b[39m\u001b[34m(backend, n, oracle)\u001b[39m\n\u001b[32m      2\u001b[39m \u001b[38;5;250m\u001b[39m\u001b[33;03m\"\"\"\u001b[39;00m\n\u001b[32m      3\u001b[39m \u001b[33;03mRun Grover's search algorithm and return the results.\u001b[39;00m\n\u001b[32m      4\u001b[39m \n\u001b[32m   (...)\u001b[39m\u001b[32m     10\u001b[39m \u001b[33;03mdict: Measurement results.\u001b[39;00m\n\u001b[32m     11\u001b[39m \u001b[33;03m\"\"\"\u001b[39;00m\n\u001b[32m     12\u001b[39m \u001b[38;5;66;03m# Create the Grover search circuit\u001b[39;00m\n\u001b[32m---> \u001b[39m\u001b[32m13\u001b[39m grover_circuit = \u001b[43mgrover_search\u001b[49m\u001b[43m(\u001b[49m\u001b[43mn\u001b[49m\u001b[43m,\u001b[49m\u001b[43m \u001b[49m\u001b[43moracle\u001b[49m\u001b[43m)\u001b[49m\n\u001b[32m     15\u001b[39m pm = generate_preset_pass_manager(backend=backend, optimization_level=\u001b[32m3\u001b[39m)\n\u001b[32m     16\u001b[39m \u001b[38;5;66;03m# Transpile the circuit\u001b[39;00m\n",
      "\u001b[36mCell\u001b[39m\u001b[36m \u001b[39m\u001b[32mIn[8]\u001b[39m\u001b[32m, line 27\u001b[39m, in \u001b[36mgrover_search\u001b[39m\u001b[34m(n, oracle)\u001b[39m\n\u001b[32m     24\u001b[39m grover_circuit.compose(oracle,inplace=\u001b[38;5;28;01mTrue\u001b[39;00m)\n\u001b[32m     26\u001b[39m \u001b[38;5;66;03m# Apply the Grover diffusion operator\u001b[39;00m\n\u001b[32m---> \u001b[39m\u001b[32m27\u001b[39m grover_circuit.compose(\u001b[43mGroverOperator\u001b[49m\u001b[43m(\u001b[49m\u001b[43mn\u001b[49m\u001b[43m)\u001b[49m.to_instruction(),inplace=\u001b[38;5;28;01mTrue\u001b[39;00m)\n\u001b[32m     29\u001b[39m \u001b[38;5;66;03m# Measure the qubits\u001b[39;00m\n\u001b[32m     30\u001b[39m grover_circuit.measure(qr, cr)\n",
      "\u001b[36mFile \u001b[39m\u001b[32mC:\\QC\\venvs\\sandbox\\.venv\\Lib\\site-packages\\qiskit\\utils\\deprecation.py:97\u001b[39m, in \u001b[36mdeprecate_func.<locals>.decorator.<locals>.wrapper\u001b[39m\u001b[34m(*args, **kwargs)\u001b[39m\n\u001b[32m     94\u001b[39m \u001b[38;5;129m@functools\u001b[39m.wraps(func)\n\u001b[32m     95\u001b[39m \u001b[38;5;28;01mdef\u001b[39;00m\u001b[38;5;250m \u001b[39m\u001b[34mwrapper\u001b[39m(*args, **kwargs):\n\u001b[32m     96\u001b[39m     warnings.warn(msg, category=category, stacklevel=stacklevel)\n\u001b[32m---> \u001b[39m\u001b[32m97\u001b[39m     \u001b[38;5;28;01mreturn\u001b[39;00m \u001b[43mfunc\u001b[49m\u001b[43m(\u001b[49m\u001b[43m*\u001b[49m\u001b[43margs\u001b[49m\u001b[43m,\u001b[49m\u001b[43m \u001b[49m\u001b[43m*\u001b[49m\u001b[43m*\u001b[49m\u001b[43mkwargs\u001b[49m\u001b[43m)\u001b[49m\n",
      "\u001b[36mFile \u001b[39m\u001b[32mC:\\QC\\venvs\\sandbox\\.venv\\Lib\\site-packages\\qiskit\\circuit\\library\\grover_operator.py:479\u001b[39m, in \u001b[36mGroverOperator.__init__\u001b[39m\u001b[34m(self, oracle, state_preparation, zero_reflection, reflection_qubits, insert_barriers, mcx_mode, name)\u001b[39m\n\u001b[32m    476\u001b[39m \u001b[38;5;28mself\u001b[39m._mcx_mode = mcx_mode\n\u001b[32m    478\u001b[39m \u001b[38;5;66;03m# build circuit\u001b[39;00m\n\u001b[32m--> \u001b[39m\u001b[32m479\u001b[39m \u001b[38;5;28;43mself\u001b[39;49m\u001b[43m.\u001b[49m\u001b[43m_build\u001b[49m\u001b[43m(\u001b[49m\u001b[43m)\u001b[49m\n",
      "\u001b[36mFile \u001b[39m\u001b[32mC:\\QC\\venvs\\sandbox\\.venv\\Lib\\site-packages\\qiskit\\circuit\\library\\grover_operator.py:517\u001b[39m, in \u001b[36mGroverOperator._build\u001b[39m\u001b[34m(self)\u001b[39m\n\u001b[32m    516\u001b[39m \u001b[38;5;28;01mdef\u001b[39;00m\u001b[38;5;250m \u001b[39m\u001b[34m_build\u001b[39m(\u001b[38;5;28mself\u001b[39m):\n\u001b[32m--> \u001b[39m\u001b[32m517\u001b[39m     num_state_qubits = \u001b[38;5;28;43mself\u001b[39;49m\u001b[43m.\u001b[49m\u001b[43moracle\u001b[49m\u001b[43m.\u001b[49m\u001b[43mnum_qubits\u001b[49m - \u001b[38;5;28mself\u001b[39m.oracle.num_ancillas\n\u001b[32m    518\u001b[39m     circuit = QuantumCircuit(QuantumRegister(num_state_qubits, name=\u001b[33m\"\u001b[39m\u001b[33mstate\u001b[39m\u001b[33m\"\u001b[39m), name=\u001b[33m\"\u001b[39m\u001b[33mQ\u001b[39m\u001b[33m\"\u001b[39m)\n\u001b[32m    519\u001b[39m     num_ancillas = numpy.max(\n\u001b[32m    520\u001b[39m         [\n\u001b[32m    521\u001b[39m             \u001b[38;5;28mself\u001b[39m.oracle.num_ancillas,\n\u001b[32m   (...)\u001b[39m\u001b[32m    524\u001b[39m         ]\n\u001b[32m    525\u001b[39m     )\n",
      "\u001b[31mAttributeError\u001b[39m: 'int' object has no attribute 'num_qubits'"
     ]
    }
   ],
   "source": [
    "# Example usage\n",
    "if __name__ == \"__main__\":\n",
    "    # Define the oracle for a simple case (e.g., marking |11>)\n",
    "    n = 2  # Number of qubits\n",
    "    oracle = QuantumCircuit(n)\n",
    "    oracle.x(0)  # Marking |11> state\n",
    "    oracle.x(1)\n",
    "    oracle.h(0)\n",
    "    oracle.h(1)\n",
    "    oracle.cz(0, 1)  # Apply controlled-Z gate\n",
    "    oracle.h(0)\n",
    "    oracle.h(1)\n",
    "    oracle.x(0)\n",
    "    oracle.x(1)\n",
    "\n",
    "    account = read_account_file('account_info.conf')\n",
    "    service = QiskitRuntimeService(channel=\"ibm_cloud\", instance=account['instance'], token=account['token'])\n",
    "    backend = service.least_busy()\n",
    "    print(f\"Using backend: {backend.name}\")\n",
    "\n",
    "    # Run Grover's search\n",
    "    \n",
    "    job = run_grover_search(backend,n, oracle)\n",
    "    \n",
    "    print(f\"Job ID: {job.job_id()}\")    "
   ]
  },
  {
   "cell_type": "code",
   "execution_count": null,
   "id": "965e3f51",
   "metadata": {},
   "outputs": [],
   "source": [
    "result = job.result()\n",
    "\n",
    "# Get the counts (measurement results)\n",
    "counts = results[0].data.c.get_counts()\n",
    "\n",
    "# Print the results\n",
    "print(\"Measurement results:\", results) \n",
    "# Optionally, visualize the results\n",
    "plot_histogram(results).show()"
   ]
  }
 ],
 "metadata": {
  "kernelspec": {
   "display_name": "Python 3 (ipykernel)",
   "language": "python",
   "name": "python3"
  },
  "language_info": {
   "codemirror_mode": {
    "name": "ipython",
    "version": 3
   },
   "file_extension": ".py",
   "mimetype": "text/x-python",
   "name": "python",
   "nbconvert_exporter": "python",
   "pygments_lexer": "ipython3",
   "version": "3.13.5"
  }
 },
 "nbformat": 4,
 "nbformat_minor": 5
}
