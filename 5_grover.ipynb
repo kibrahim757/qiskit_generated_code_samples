{
 "cells": [
  {
   "cell_type": "code",
   "execution_count": 1,
   "id": "c3ba4ebb",
   "metadata": {},
   "outputs": [],
   "source": [
    "# Built-in modules\n",
    "import math\n",
    "\n",
    "# Imports from Qiskit\n",
    "from qiskit import QuantumCircuit\n",
    "from qiskit.circuit.library import GroverOperator, MCMT, ZGate\n",
    "from qiskit.visualization import plot_distribution,plot_histogram\n",
    "\n",
    "# Imports from Qiskit Runtime\n",
    "from qiskit_ibm_runtime import QiskitRuntimeService\n",
    "from qiskit_ibm_runtime import SamplerV2 as Sampler\n",
    "# Initialize the Qiskit Runtime Service\n",
    "from test_utils import read_account_file"
   ]
  },
  {
   "cell_type": "code",
   "execution_count": 2,
   "id": "a845fbee",
   "metadata": {},
   "outputs": [],
   "source": [
    "def grover_oracle(marked_states):\n",
    "    \"\"\"Build a Grover oracle for multiple marked states\n",
    "\n",
    "    Here we assume all input marked states have the same number of bits\n",
    "\n",
    "    Parameters:\n",
    "        marked_states (str or list): Marked states of oracle\n",
    "\n",
    "    Returns:\n",
    "        QuantumCircuit: Quantum circuit representing Grover oracle\n",
    "    \"\"\"\n",
    "    if not isinstance(marked_states, list):\n",
    "        marked_states = [marked_states]\n",
    "    # Compute the number of qubits in circuit\n",
    "    num_qubits = len(marked_states[0])\n",
    "\n",
    "    qc = QuantumCircuit(num_qubits)\n",
    "    # Mark each target state in the input list\n",
    "    for target in marked_states:\n",
    "        # Flip target bit-string to match Qiskit bit-ordering\n",
    "        rev_target = target[::-1]\n",
    "        # Find the indices of all the '0' elements in bit-string\n",
    "        zero_inds = [ind for ind in range(num_qubits) if rev_target.startswith(\"0\", ind)]\n",
    "        # Add a multi-controlled Z-gate with pre- and post-applied X-gates (open-controls)\n",
    "        # where the target bit-string has a '0' entry\n",
    "        qc.x(zero_inds)\n",
    "        qc.compose(MCMT(ZGate(), num_qubits - 1, 1), inplace=True)\n",
    "        qc.x(zero_inds)\n",
    "    return qc"
   ]
  },
  {
   "cell_type": "code",
   "execution_count": 3,
   "id": "10c36ba9",
   "metadata": {},
   "outputs": [
    {
     "name": "stderr",
     "output_type": "stream",
     "text": [
      "C:\\Users\\karim\\AppData\\Local\\Temp\\ipykernel_16824\\2149212773.py:27: DeprecationWarning: The class ``qiskit.circuit.library.generalized_gates.mcmt.MCMT`` is deprecated as of Qiskit 1.4. It will be removed no earlier than 3 months after the release date. Use MCMTGate instead.\n",
      "  qc.compose(MCMT(ZGate(), num_qubits - 1, 1), inplace=True)\n"
     ]
    }
   ],
   "source": [
    "marked_states = [\"0000\",\"0001\"]\n",
    "\n",
    "oracle = grover_oracle(marked_states)\n",
    "oracle.draw(output=\"mpl\", style=\"iqp\")\n",
    "\n",
    "grover_op = GroverOperator(oracle)\n",
    "grover_op.decompose().draw(output=\"mpl\", style=\"iqp\")\n",
    "\n",
    "optimal_num_iterations = math.floor(\n",
    "    math.pi / (4 * math.asin(math.sqrt(len(marked_states) / 2**grover_op.num_qubits)))\n",
    ")"
   ]
  },
  {
   "cell_type": "code",
   "execution_count": 4,
   "id": "0f75d93e",
   "metadata": {},
   "outputs": [
    {
     "data": {
      "image/png": "[encoded data removed]",
      "text/plain": [
       "<Figure size 831.22x451.5 with 1 Axes>"
      ]
     },
     "execution_count": 4,
     "metadata": {},
     "output_type": "execute_result"
    }
   ],
   "source": [
    "qc = QuantumCircuit(grover_op.num_qubits)\n",
    "# Create even superposition of all basis states\n",
    "qc.h(range(grover_op.num_qubits))\n",
    "# Apply Grover operator the optimal number of times\n",
    "qc.compose(grover_op.power(optimal_num_iterations), inplace=True)\n",
    "# Measure all qubits\n",
    "qc.measure_all()\n",
    "qc.draw(output=\"mpl\", style=\"iqp\")"
   ]
  },
  {
   "cell_type": "code",
   "execution_count": 7,
   "id": "46b0613f",
   "metadata": {},
   "outputs": [
    {
     "name": "stdout",
     "output_type": "stream",
     "text": [
      "Using backend: ibm_torino\n"
     ]
    }
   ],
   "source": [
    "account = read_account_file('account_info.conf')\n",
    "service = QiskitRuntimeService(channel=\"ibm_cloud\", instance=account['instance'], token=account['token'])\n",
    "backend = service.least_busy()\n",
    "print(f\"Using backend: {backend.name}\")"
   ]
  },
  {
   "cell_type": "code",
   "execution_count": 6,
   "id": "965e3f51",
   "metadata": {},
   "outputs": [
    {
     "name": "stdout",
     "output_type": "stream",
     "text": [
      "Job ID: d1h5ee5qbivc73edqcp0\n"
     ]
    }
   ],
   "source": [
    "from qiskit.transpiler.preset_passmanagers import generate_preset_pass_manager\n",
    "\n",
    "target = backend.target\n",
    "pm = generate_preset_pass_manager(target=target, optimization_level=3)\n",
    "\n",
    "circuit_isa = pm.run(qc)\n",
    "circuit_isa.draw(output=\"mpl\", idle_wires=False, style=\"iqp\")  \n",
    "# Create a sampler instance\n",
    "sampler = Sampler(mode=backend)\n",
    "# Sample the transpiled circuit\n",
    "job = sampler.run([circuit_isa], shots=1024)\n",
    "print(f\"Job ID: {job.job_id()}\")"
   ]
  },
  {
   "cell_type": "code",
   "execution_count": 12,
   "id": "6fa698ea",
   "metadata": {},
   "outputs": [
    {
     "name": "stdout",
     "output_type": "stream",
     "text": [
      "Measurement results: {'0010': 72, '1011': 77, '0111': 67, '1001': 60, '0110': 53, '0001': 84, '0000': 83, '1000': 57, '1111': 55, '1110': 36, '0100': 72, '0011': 93, '0101': 58, '1010': 61, '1101': 44, '1100': 52}\n"
     ]
    },
    {
     "name": "stderr",
     "output_type": "stream",
     "text": [
      "C:\\Users\\karim\\AppData\\Local\\Temp\\ipykernel_16824\\2614333530.py:11: UserWarning: FigureCanvasAgg is non-interactive, and thus cannot be shown\n",
      "  plot_histogram(counts).show()\n"
     ]
    }
   ],
   "source": [
    "job = service.job('d1h5ee5qbivc73edqcp0')\n",
    "\n",
    "result = job.result()\n",
    "#print(f\"{result[0].data}\")\n",
    "# Get the counts (measurement results)\n",
    "counts = result[0].data.meas.get_counts()\n",
    "\n",
    "# Print the results\n",
    "print(\"Measurement results:\", counts) \n",
    "# Optionally, visualize the results\n",
    "plot_histogram(counts).show()"
   ]
  }
 ],
 "metadata": {
  "kernelspec": {
   "display_name": "Python 3 (ipykernel)",
   "language": "python",
   "name": "python3"
  },
  "language_info": {
   "codemirror_mode": {
    "name": "ipython",
    "version": 3
   },
   "file_extension": ".py",
   "mimetype": "text/x-python",
   "name": "python",
   "nbconvert_exporter": "python",
   "pygments_lexer": "ipython3",
   "version": "3.13.5"
  }
 },
 "nbformat": 4,
 "nbformat_minor": 5
}
