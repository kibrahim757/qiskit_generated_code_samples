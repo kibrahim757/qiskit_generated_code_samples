{
 "cells": [
  {
   "cell_type": "code",
   "execution_count": null,
   "id": "c3ba4ebb",
   "metadata": {},
   "outputs": [],
   "source": [
    "# Built-in modules\n",
    "import math\n",
    "\n",
    "# Imports from Qiskit\n",
    "from qiskit import QuantumCircuit\n",
    "from qiskit.circuit.library import GroverOperator, MCMT, ZGate\n",
    "from qiskit.visualization import plot_distribution,plot_histogram\n",
    "\n",
    "# Imports from Qiskit Runtime\n",
    "from qiskit_ibm_runtime import QiskitRuntimeService\n",
    "from qiskit_ibm_runtime import SamplerV2 as Sampler\n",
    "# Initialize the Qiskit Runtime Service\n",
    "from test_utils import read_account_file"
   ]
  },
  {
   "cell_type": "code",
   "execution_count": null,
   "id": "a845fbee",
   "metadata": {},
   "outputs": [],
   "source": [
    "def grover_oracle(marked_states):\n",
    "    \"\"\"Build a Grover oracle for multiple marked states\n",
    "\n",
    "    Here we assume all input marked states have the same number of bits\n",
    "\n",
    "    Parameters:\n",
    "        marked_states (str or list): Marked states of oracle\n",
    "\n",
    "    Returns:\n",
    "        QuantumCircuit: Quantum circuit representing Grover oracle\n",
    "    \"\"\"\n",
    "    if not isinstance(marked_states, list):\n",
    "        marked_states = [marked_states]\n",
    "    # Compute the number of qubits in circuit\n",
    "    num_qubits = len(marked_states[0])\n",
    "\n",
    "    qc = QuantumCircuit(num_qubits)\n",
    "    # Mark each target state in the input list\n",
    "    for target in marked_states:\n",
    "        # Flip target bit-string to match Qiskit bit-ordering\n",
    "        rev_target = target[::-1]\n",
    "        # Find the indices of all the '0' elements in bit-string\n",
    "        zero_inds = [ind for ind in range(num_qubits) if rev_target.startswith(\"0\", ind)]\n",
    "        # Add a multi-controlled Z-gate with pre- and post-applied X-gates (open-controls)\n",
    "        # where the target bit-string has a '0' entry\n",
    "        qc.x(zero_inds)\n",
    "        qc.compose(MCMT(ZGate(), num_qubits - 1, 1), inplace=True)\n",
    "        qc.x(zero_inds)\n",
    "    return qc"
   ]
  },
  {
   "cell_type": "code",
   "execution_count": null,
   "id": "10c36ba9",
   "metadata": {},
   "outputs": [
    {
     "name": "stdout",
     "output_type": "stream",
     "text": [
      "Using backend: ibm_sherbrooke\n"
     ]
    },
    {
     "ename": "AttributeError",
     "evalue": "'int' object has no attribute 'num_qubits'",
     "output_type": "error",
     "traceback": [
      "\u001b[31m---------------------------------------------------------------------------\u001b[39m",
      "\u001b[31mAttributeError\u001b[39m                            Traceback (most recent call last)",
      "\u001b[36mCell\u001b[39m\u001b[36m \u001b[39m\u001b[32mIn[4]\u001b[39m\u001b[32m, line 23\u001b[39m\n\u001b[32m     19\u001b[39m \u001b[38;5;28mprint\u001b[39m(\u001b[33mf\u001b[39m\u001b[33m\"\u001b[39m\u001b[33mUsing backend: \u001b[39m\u001b[38;5;132;01m{\u001b[39;00mbackend.name\u001b[38;5;132;01m}\u001b[39;00m\u001b[33m\"\u001b[39m)\n\u001b[32m     21\u001b[39m \u001b[38;5;66;03m# Run Grover's search\u001b[39;00m\n\u001b[32m---> \u001b[39m\u001b[32m23\u001b[39m job = \u001b[43mrun_grover_search\u001b[49m\u001b[43m(\u001b[49m\u001b[43mbackend\u001b[49m\u001b[43m,\u001b[49m\u001b[43mn\u001b[49m\u001b[43m,\u001b[49m\u001b[43m \u001b[49m\u001b[43moracle\u001b[49m\u001b[43m)\u001b[49m\n\u001b[32m     25\u001b[39m \u001b[38;5;28mprint\u001b[39m(\u001b[33mf\u001b[39m\u001b[33m\"\u001b[39m\u001b[33mJob ID: \u001b[39m\u001b[38;5;132;01m{\u001b[39;00mjob.job_id()\u001b[38;5;132;01m}\u001b[39;00m\u001b[33m\"\u001b[39m)    \n",
      "\u001b[36mCell\u001b[39m\u001b[36m \u001b[39m\u001b[32mIn[3]\u001b[39m\u001b[32m, line 13\u001b[39m, in \u001b[36mrun_grover_search\u001b[39m\u001b[34m(backend, n, oracle)\u001b[39m\n\u001b[32m      2\u001b[39m \u001b[38;5;250m\u001b[39m\u001b[33;03m\"\"\"\u001b[39;00m\n\u001b[32m      3\u001b[39m \u001b[33;03mRun Grover's search algorithm and return the results.\u001b[39;00m\n\u001b[32m      4\u001b[39m \n\u001b[32m   (...)\u001b[39m\u001b[32m     10\u001b[39m \u001b[33;03mdict: Measurement results.\u001b[39;00m\n\u001b[32m     11\u001b[39m \u001b[33;03m\"\"\"\u001b[39;00m\n\u001b[32m     12\u001b[39m \u001b[38;5;66;03m# Create the Grover search circuit\u001b[39;00m\n\u001b[32m---> \u001b[39m\u001b[32m13\u001b[39m grover_circuit = \u001b[43mgrover_search\u001b[49m\u001b[43m(\u001b[49m\u001b[43mn\u001b[49m\u001b[43m,\u001b[49m\u001b[43m \u001b[49m\u001b[43moracle\u001b[49m\u001b[43m)\u001b[49m\n\u001b[32m     15\u001b[39m pm = generate_preset_pass_manager(backend=backend, optimization_level=\u001b[32m3\u001b[39m)\n\u001b[32m     16\u001b[39m \u001b[38;5;66;03m# Transpile the circuit\u001b[39;00m\n",
      "\u001b[36mCell\u001b[39m\u001b[36m \u001b[39m\u001b[32mIn[2]\u001b[39m\u001b[32m, line 27\u001b[39m, in \u001b[36mgrover_search\u001b[39m\u001b[34m(n, oracle)\u001b[39m\n\u001b[32m     24\u001b[39m grover_circuit.compose(oracle,inplace=\u001b[38;5;28;01mTrue\u001b[39;00m)\n\u001b[32m     26\u001b[39m \u001b[38;5;66;03m# Apply the Grover diffusion operator\u001b[39;00m\n\u001b[32m---> \u001b[39m\u001b[32m27\u001b[39m grover_circuit.append(\u001b[43mGroverOperator\u001b[49m\u001b[43m(\u001b[49m\u001b[43mn\u001b[49m\u001b[43m)\u001b[49m.to_instruction(), qr)\n\u001b[32m     29\u001b[39m \u001b[38;5;66;03m# Measure the qubits\u001b[39;00m\n\u001b[32m     30\u001b[39m grover_circuit.measure(qr, cr)\n",
      "\u001b[36mFile \u001b[39m\u001b[32mC:\\QC\\venvs\\sandbox\\.venv\\Lib\\site-packages\\qiskit\\utils\\deprecation.py:97\u001b[39m, in \u001b[36mdeprecate_func.<locals>.decorator.<locals>.wrapper\u001b[39m\u001b[34m(*args, **kwargs)\u001b[39m\n\u001b[32m     94\u001b[39m \u001b[38;5;129m@functools\u001b[39m.wraps(func)\n\u001b[32m     95\u001b[39m \u001b[38;5;28;01mdef\u001b[39;00m\u001b[38;5;250m \u001b[39m\u001b[34mwrapper\u001b[39m(*args, **kwargs):\n\u001b[32m     96\u001b[39m     warnings.warn(msg, category=category, stacklevel=stacklevel)\n\u001b[32m---> \u001b[39m\u001b[32m97\u001b[39m     \u001b[38;5;28;01mreturn\u001b[39;00m \u001b[43mfunc\u001b[49m\u001b[43m(\u001b[49m\u001b[43m*\u001b[49m\u001b[43margs\u001b[49m\u001b[43m,\u001b[49m\u001b[43m \u001b[49m\u001b[43m*\u001b[49m\u001b[43m*\u001b[49m\u001b[43mkwargs\u001b[49m\u001b[43m)\u001b[49m\n",
      "\u001b[36mFile \u001b[39m\u001b[32mC:\\QC\\venvs\\sandbox\\.venv\\Lib\\site-packages\\qiskit\\circuit\\library\\grover_operator.py:479\u001b[39m, in \u001b[36mGroverOperator.__init__\u001b[39m\u001b[34m(self, oracle, state_preparation, zero_reflection, reflection_qubits, insert_barriers, mcx_mode, name)\u001b[39m\n\u001b[32m    476\u001b[39m \u001b[38;5;28mself\u001b[39m._mcx_mode = mcx_mode\n\u001b[32m    478\u001b[39m \u001b[38;5;66;03m# build circuit\u001b[39;00m\n\u001b[32m--> \u001b[39m\u001b[32m479\u001b[39m \u001b[38;5;28;43mself\u001b[39;49m\u001b[43m.\u001b[49m\u001b[43m_build\u001b[49m\u001b[43m(\u001b[49m\u001b[43m)\u001b[49m\n",
      "\u001b[36mFile \u001b[39m\u001b[32mC:\\QC\\venvs\\sandbox\\.venv\\Lib\\site-packages\\qiskit\\circuit\\library\\grover_operator.py:517\u001b[39m, in \u001b[36mGroverOperator._build\u001b[39m\u001b[34m(self)\u001b[39m\n\u001b[32m    516\u001b[39m \u001b[38;5;28;01mdef\u001b[39;00m\u001b[38;5;250m \u001b[39m\u001b[34m_build\u001b[39m(\u001b[38;5;28mself\u001b[39m):\n\u001b[32m--> \u001b[39m\u001b[32m517\u001b[39m     num_state_qubits = \u001b[38;5;28;43mself\u001b[39;49m\u001b[43m.\u001b[49m\u001b[43moracle\u001b[49m\u001b[43m.\u001b[49m\u001b[43mnum_qubits\u001b[49m - \u001b[38;5;28mself\u001b[39m.oracle.num_ancillas\n\u001b[32m    518\u001b[39m     circuit = QuantumCircuit(QuantumRegister(num_state_qubits, name=\u001b[33m\"\u001b[39m\u001b[33mstate\u001b[39m\u001b[33m\"\u001b[39m), name=\u001b[33m\"\u001b[39m\u001b[33mQ\u001b[39m\u001b[33m\"\u001b[39m)\n\u001b[32m    519\u001b[39m     num_ancillas = numpy.max(\n\u001b[32m    520\u001b[39m         [\n\u001b[32m    521\u001b[39m             \u001b[38;5;28mself\u001b[39m.oracle.num_ancillas,\n\u001b[32m   (...)\u001b[39m\u001b[32m    524\u001b[39m         ]\n\u001b[32m    525\u001b[39m     )\n",
      "\u001b[31mAttributeError\u001b[39m: 'int' object has no attribute 'num_qubits'"
     ]
    }
   ],
   "source": [
    "marked_states = [\"011\", \"100\"]\n",
    "\n",
    "oracle = grover_oracle(marked_states)\n",
    "oracle.draw(output=\"mpl\", style=\"iqp\")\n",
    "\n",
    "grover_op = GroverOperator(oracle)\n",
    "grover_op.decompose().draw(output=\"mpl\", style=\"iqp\")\n",
    "\n",
    "optimal_num_iterations = math.floor(\n",
    "    math.pi / (4 * math.asin(math.sqrt(len(marked_states) / 2**grover_op.num_qubits)))\n",
    ")\n",
    "\n",
    "qc = QuantumCircuit(grover_op.num_qubits)\n",
    "# Create even superposition of all basis states\n",
    "qc.h(range(grover_op.num_qubits))\n",
    "# Apply Grover operator the optimal number of times\n",
    "qc.compose(grover_op.power(optimal_num_iterations), inplace=True)\n",
    "# Measure all qubits\n",
    "qc.measure_all()\n",
    "qc.draw(output=\"mpl\", style=\"iqp\")"
   ]
  },
  {
   "cell_type": "code",
   "execution_count": null,
   "id": "46b0613f",
   "metadata": {},
   "outputs": [],
   "source": [
    "account = read_account_file('account_info.conf')\n",
    "service = QiskitRuntimeService(channel=\"ibm_cloud\", instance=account['instance'], token=account['token'])\n",
    "backend = service.least_busy()\n",
    "print(f\"Using backend: {backend.name}\")"
   ]
  },
  {
   "cell_type": "code",
   "execution_count": null,
   "id": "965e3f51",
   "metadata": {},
   "outputs": [],
   "source": [
    "from qiskit.transpiler.preset_passmanagers import generate_preset_pass_manager\n",
    "\n",
    "target = backend.target\n",
    "pm = generate_preset_pass_manager(target=target, optimization_level=3)\n",
    "\n",
    "circuit_isa = pm.run(qc)\n",
    "circuit_isa.draw(output=\"mpl\", idle_wires=False, style=\"iqp\")  \n",
    "# Create a sampler instance\n",
    "sampler = Sampler(mode=backend)\n",
    "# Sample the transpiled circuit\n",
    "job = sampler.run([circuit_isa], shots=1024)\n",
    "print(f\"Job ID: {job.job_id()}\")"
   ]
  },
  {
   "cell_type": "code",
   "execution_count": null,
   "id": "6fa698ea",
   "metadata": {},
   "outputs": [],
   "source": [
    "result = job.result()\n",
    "\n",
    "# Get the counts (measurement results)\n",
    "counts = result[0].data.c.get_counts()\n",
    "\n",
    "# Print the results\n",
    "print(\"Measurement results:\", result) \n",
    "# Optionally, visualize the results\n",
    "plot_histogram(result).show()"
   ]
  }
 ],
 "metadata": {
  "kernelspec": {
   "display_name": "Python 3 (ipykernel)",
   "language": "python",
   "name": "python3"
  },
  "language_info": {
   "codemirror_mode": {
    "name": "ipython",
    "version": 3
   },
   "file_extension": ".py",
   "mimetype": "text/x-python",
   "name": "python",
   "nbconvert_exporter": "python",
   "pygments_lexer": "ipython3",
   "version": "3.13.5"
  }
 },
 "nbformat": 4,
 "nbformat_minor": 5
}
