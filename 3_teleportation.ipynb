{
 "cells": [
  {
   "cell_type": "code",
   "execution_count": null,
   "id": "a0644bed",
   "metadata": {},
   "outputs": [],
   "source": [
    "from qiskit import QuantumCircuit, QuantumRegister, ClassicalRegister\n",
    "from qiskit.visualization import plot_histogram\n",
    "from qiskit_ibm_runtime import QiskitRuntimeService\n",
    "from qiskit.transpiler.preset_passmanagers import generate_preset_pass_manager\n",
    "from qiskit_ibm_runtime import SamplerV2 as Sampler\n",
    "# Initialize the Qiskit Runtime Service\n",
    "from test_utils import read_account_file"
   ]
  },
  {
   "cell_type": "code",
   "execution_count": null,
   "id": "141d7461",
   "metadata": {},
   "outputs": [],
   "source": [
    "account = read_account_file('account_info.conf')  # Use the updated account file name\n",
    "service = QiskitRuntimeService(channel=\"ibm_cloud\", instance=account['instance'], token=account['token'])\n",
    "backend = service.least_busy()\n",
    "print(f\"Using backend: {backend.name}\")"
   ]
  },
  {
   "cell_type": "code",
   "execution_count": null,
   "id": "a5eb0f7f",
   "metadata": {},
   "outputs": [],
   "source": [
    "# Create a quantum circuit for entanglement and measurement then draw it\n",
    "qr = QuantumRegister(3, name='q')\n",
    "cr_alice = ClassicalRegister(3, name='c_alice')\n",
    "qc = QuantumCircuit(qr, cr_alice)\n",
    "\n",
    "qc.h(0)  # Apply Hadamard gate to qubit 0\n",
    "\n",
    "qc.h(1)  # Apply Hadamard gate to qubit 0\n",
    "qc.cx(1, 2)  # Apply CNOT gate to entangle qubit 0 and qubit 1\n",
    "qc.barrier()\n",
    "qc.draw(\"mpl\")\n",
    "# Apply\n",
    "qc.cx(0, 1)  # Apply CNOT gate to entangle qubit 0 and qubit 1\n",
    "qc.h(0)  # Apply Hadamard gate to qubit 0\n",
    "qc.barrier()\n",
    "\n",
    "qc.measure([0, 1], [0, 1])  # Measure both qubits\n",
    "qc.barrier()\n",
    "\n",
    "with qc.if_test((cr_alice[1], 1)):\n",
    "    qc.x(qr[2])  # Apply X gate to q2\n",
    "with qc.if_test((cr_alice[0], 1)):\n",
    "    qc.z(qr[2])  # Apply Z gate to q2\n",
    "\n",
    "qc.measure(qr[2], cr_alice[2])  # Measure q2\n",
    "# Draw the circuit\n",
    "qc.draw(\"mpl\")"
   ]
  },
  {
   "cell_type": "code",
   "execution_count": null,
   "id": "2aeb8367",
   "metadata": {},
   "outputs": [],
   "source": [
    "# Transpile the circuit using a preset pass manager\n",
    "pm = generate_preset_pass_manager(backend, optimization_level=3)\n",
    "# Transpile the circuit\n",
    "transpiled_circuit = pm.run(qc)\n",
    "# Create a sampler instance\n",
    "sampler = Sampler(mode=backend)\n",
    "# Sample the transpiled circuit\n",
    "job = sampler.run([transpiled_circuit])\n",
    "print(f\"Job ID: {job.job_id()}\")"
   ]
  },
  {
   "cell_type": "code",
   "execution_count": null,
   "id": "ad5fafb5",
   "metadata": {},
   "outputs": [],
   "source": [
    "\n",
    "# Get the results\n",
    "results = job.result()\n",
    "# Plot the histogram of results using cregisters\n",
    "counts = results[0].data.c.get_counts()\n",
    "# Plot the histogram\n",
    "plot_histogram(counts, title=\"Entanglement Measurement Results\")\n",
    "# Show the plot\n"
   ]
  }
 ],
 "metadata": {
  "language_info": {
   "name": "python"
  }
 },
 "nbformat": 4,
 "nbformat_minor": 5
}
