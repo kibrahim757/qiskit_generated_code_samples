{
 "cells": [
  {
   "cell_type": "code",
   "execution_count": null,
   "id": "0690d15a",
   "metadata": {},
   "outputs": [],
   "source": [
    "from qiskit import QuantumCircuit\n",
    "from qiskit.visualization import plot_histogram\n",
    "from qiskit_ibm_runtime import QiskitRuntimeService\n",
    "from qiskit.transpiler.preset_passmanagers import generate_preset_pass_manager \n",
    "from qiskit_ibm_runtime import SamplerV2 as Sampler"
   ]
  },
  {
   "cell_type": "code",
   "execution_count": null,
   "id": "439f748f",
   "metadata": {},
   "outputs": [],
   "source": [
    "# Initialize the Qiskit Runtime Service\n",
    "\n",
    "from test_utils import read_account_file\n",
    "account = read_account_file('account_info.conf') \n",
    "# Ensure the account file is read correctly\n",
    "print(\"Account details:\", account)\n",
    "\n",
    "service = QiskitRuntimeService(channel=\"ibm_cloud\",instance=\"{account[0]}\",token=\"{account[1]}\")\n",
    "backend = service.least_busy()\n",
    "print(f\"Using backend: {backend.name}\")"
   ]
  },
  {
   "cell_type": "code",
   "execution_count": null,
   "id": "62983646",
   "metadata": {},
   "outputs": [],
   "source": [
    "# Create a quantum circuit for entanglement and measurement then draw it\n",
    "qc = QuantumCircuit(2, 2)\n",
    "qc.h(0)  # Apply Hadamard gate to qubit 0\n",
    "qc.cx(0, 1)  # Apply CNOT gate to entangle qubit 0 and qubit 1\n",
    "qc.measure([0, 1], [0, 1])  # Measure both qubits\n",
    "qc.draw(\"mpl\")"
   ]
  },
  {
   "cell_type": "code",
   "execution_count": null,
   "id": "9e797344",
   "metadata": {},
   "outputs": [],
   "source": [
    "# Transpile the circuit using a preset pass manager\n",
    "pm = generate_preset_pass_manager(backend, optimization_level=3)\n",
    "# transpile the circuit\n",
    "transpiled_circuit = pm.run(qc)\n",
    "# Create a sampler instance\n",
    "sampler = Sampler(mode=backend)\n",
    "# Sample the transpiled circuit\n",
    "job = sampler.run([transpiled_circuit], shots=1024)\n",
    "print(f\"Job ID: {job.job_id()}\")"
   ]
  },
  {
   "cell_type": "code",
   "execution_count": null,
   "id": "aced28ee",
   "metadata": {},
   "outputs": [],
   "source": [
    "# Get the results\n",
    "results = job.result()\n",
    "# Plot the histogram of results using cregisters\n",
    "counts = results[0].data.c.get_counts()\n",
    "# Plot the histogram\n",
    "plot_histogram(counts, title=\"Entanglement Measurement Results\")"
   ]
  }
 ],
 "metadata": {
  "language_info": {
   "name": "python"
  }
 },
 "nbformat": 4,
 "nbformat_minor": 5
}
