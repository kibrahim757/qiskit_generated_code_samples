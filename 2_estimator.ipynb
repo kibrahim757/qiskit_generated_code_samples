{
 "cells": [
  {
   "cell_type": "code",
   "execution_count": null,
   "id": "e8604436",
   "metadata": {},
   "outputs": [],
   "source": [
    "from qiskit import QuantumCircuit\n",
    "from qiskit.visualization import plot_histogram\n",
    "from qiskit_ibm_runtime import QiskitRuntimeService\n",
    "from qiskit.transpiler.preset_passmanagers import generate_preset_pass_manager\n",
    "from qiskit_ibm_runtime import EstimatorV2 as Estimator"
   ]
  },
  {
   "cell_type": "code",
   "execution_count": null,
   "id": "586b26ca",
   "metadata": {},
   "outputs": [],
   "source": [
    "# Initialize the Qiskit Runtime Service\n",
    "from test_utils import read_account_file\n",
    "account = read_account_file('account_info.conf')  # Use the updated account file name\n",
    "service = QiskitRuntimeService(channel=\"ibm_cloud\", instance=account['instance'], token=account['token'])\n",
    "backend = service.least_busy()\n",
    "print(f\"Using backend: {backend.name}\")"
   ]
  },
  {
   "cell_type": "code",
   "execution_count": null,
   "id": "49e01f74",
   "metadata": {
    "vscode": {
     "languageId": "ruby"
    }
   },
   "outputs": [],
   "source": [
    "# Create a quantum circuit for entanglement and measurement then draw it\n",
    "qc = QuantumCircuit(2, 2)\n",
    "qc.h(0)  # Apply Hadamard gate to qubit 0\n",
    "qc.cx(0, 1)  # Apply CNOT gate to entangle qubit 0 and qubit 1\n",
    "qc.measure([0, 1], [0, 1])  # Measure both qubits\n",
    "qc.draw(\"mpl\")"
   ]
  },
  {
   "cell_type": "code",
   "execution_count": null,
   "id": "0d17970f",
   "metadata": {},
   "outputs": [],
   "source": [
    "# set observables for the expectation value\n",
    "from qiskit.quantum_info import SparsePauliOp\n",
    "ZZ = SparsePauliOp.from_list([(\"ZZ\", 1)])  # Define the observable for ZZ measurement\n",
    "# Note: The SparsePauliOp is used to define the observable for expectation value estimation.\n",
    "# If you want to sample the results, you would typically use a different observable or measurement setup.\n",
    "# Transpile the circuit using a preset pass manager\n",
    "from qiskit.transpiler.preset_passmanagers import generate_preset_pass_manager\n",
    "\n",
    "pm = generate_preset_pass_manager(backend=backend, optimization_level=3)\n",
    "# Transpile the circuit\n",
    "transpiled_circuit = pm.run(qc)\n",
    "# Create an estimator instance\n",
    "estimator = Estimator(mode=backend)\n",
    "# map observables to the circuit\n",
    "observables = [ZZ.apply_layout(transpiled_circuit.layout)]\n",
    "# run estimator to get the expectation value\n",
    "job = estimator.run([(transpiled_circuit, observables)])\n",
    "print(f\"Job ID: {job.job_id()}\")"
   ]
  },
  {
   "cell_type": "code",
   "execution_count": null,
   "id": "9b0871fd",
   "metadata": {},
   "outputs": [],
   "source": [
    "# Get the results\n",
    "results = job.result()\n",
    "# Get estimator results\n",
    "from matplotlib import pyplot as plt\n",
    "values = results[0].data.evs\n",
    "errors = results[0].data.stds\n",
    "# plotting graph\n",
    "plt.plot([\"ZZ\"], values, \"-o\")\n",
    "plt.xlabel(\"Observables\")\n",
    "plt.ylabel(\"Values\")\n",
    "plt.show()"
   ]
  }
 ],
 "metadata": {
  "language_info": {
   "name": "python"
  }
 },
 "nbformat": 4,
 "nbformat_minor": 5
}
