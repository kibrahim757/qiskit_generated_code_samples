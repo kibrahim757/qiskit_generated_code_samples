{
 "cells": [
  {
   "cell_type": "code",
   "execution_count": 3,
   "id": "415c5792",
   "metadata": {},
   "outputs": [
    {
     "ename": "ModuleNotFoundError",
     "evalue": "No module named 'test_utils'",
     "output_type": "error",
     "traceback": [
      "\u001b[31m---------------------------------------------------------------------------\u001b[39m",
      "\u001b[31mModuleNotFoundError\u001b[39m                       Traceback (most recent call last)",
      "\u001b[36mCell\u001b[39m\u001b[36m \u001b[39m\u001b[32mIn[3]\u001b[39m\u001b[32m, line 23\u001b[39m\n\u001b[32m     21\u001b[39m \u001b[38;5;28;01mfrom\u001b[39;00m\u001b[38;5;250m \u001b[39m\u001b[34;01mqiskit_ibm_runtime\u001b[39;00m\u001b[38;5;250m \u001b[39m\u001b[38;5;28;01mimport\u001b[39;00m SamplerV2 \u001b[38;5;28;01mas\u001b[39;00m Sampler\n\u001b[32m     22\u001b[39m \u001b[38;5;66;03m# Initialize the Qiskit Runtime Service\u001b[39;00m\n\u001b[32m---> \u001b[39m\u001b[32m23\u001b[39m \u001b[38;5;28;01mfrom\u001b[39;00m\u001b[38;5;250m \u001b[39m\u001b[34;01mtest_utils\u001b[39;00m\u001b[38;5;250m \u001b[39m\u001b[38;5;28;01mimport\u001b[39;00m read_account_file\n",
      "\u001b[31mModuleNotFoundError\u001b[39m: No module named 'test_utils'"
     ]
    }
   ],
   "source": [
    "# Built-in modules\n",
    "import math\n",
    "\n",
    "# Imports from Qiskit\n",
    "from qiskit import QuantumCircuit, QuantumRegister, ClassicalRegister, transpile\n",
    "from qiskit.quantum_info import Statevector\n",
    "from qiskit.circuit.library import QFT, Initialize, UnitaryGate\n",
    "from qiskit.visualization import plot_bloch_multivector,plot_distribution, plot_histogram\n",
    "from qiskit_aer.primitives import SamplerV2\n",
    "import matplotlib\n",
    "%matplotlib inline\n",
    "import matplotlib.pyplot as plt\n",
    "import time\n",
    "from IPython.display import display\n",
    "import numpy as np\n",
    "import math\n",
    "from fractions import Fraction \n",
    "\n",
    "# Imports from Qiskit Runtime\n",
    "from qiskit_ibm_runtime import QiskitRuntimeService\n",
    "from qiskit_ibm_runtime import SamplerV2 as Sampler\n",
    "# Initialize the Qiskit Runtime Service\n",
    "from test_utils import read_account_file"
   ]
  },
  {
   "cell_type": "code",
   "execution_count": 4,
   "id": "3bbbc465",
   "metadata": {},
   "outputs": [
    {
     "ename": "NameError",
     "evalue": "name 'read_account_file' is not defined",
     "output_type": "error",
     "traceback": [
      "\u001b[31m---------------------------------------------------------------------------\u001b[39m",
      "\u001b[31mNameError\u001b[39m                                 Traceback (most recent call last)",
      "\u001b[36mCell\u001b[39m\u001b[36m \u001b[39m\u001b[32mIn[4]\u001b[39m\u001b[32m, line 1\u001b[39m\n\u001b[32m----> \u001b[39m\u001b[32m1\u001b[39m account = \u001b[43mread_account_file\u001b[49m(\u001b[33m'\u001b[39m\u001b[33maccount_info.conf\u001b[39m\u001b[33m'\u001b[39m)\n\u001b[32m      2\u001b[39m service = QiskitRuntimeService(channel=\u001b[33m\"\u001b[39m\u001b[33mibm_cloud\u001b[39m\u001b[33m\"\u001b[39m, instance=account[\u001b[33m'\u001b[39m\u001b[33minstance\u001b[39m\u001b[33m'\u001b[39m], token=account[\u001b[33m'\u001b[39m\u001b[33mtoken\u001b[39m\u001b[33m'\u001b[39m])\n\u001b[32m      3\u001b[39m backend = service.least_busy()\n",
      "\u001b[31mNameError\u001b[39m: name 'read_account_file' is not defined"
     ]
    }
   ],
   "source": [
    "account = read_account_file('account_info.conf')\n",
    "service = QiskitRuntimeService(channel=\"ibm_cloud\", instance=account['instance'], token=account['token'])\n",
    "backend = service.least_busy()\n",
    "print(f\"Using backend: {backend.name}\")"
   ]
  },
  {
   "cell_type": "code",
   "execution_count": null,
   "id": "36cb6e0b",
   "metadata": {},
   "outputs": [],
   "source": [
    "from qiskit.transpiler.preset_passmanagers import generate_preset_pass_manager\n",
    "\n",
    "target = backend.target\n",
    "pm = generate_preset_pass_manager(target=target, optimization_level=3)\n",
    "\n",
    "circuit_isa = pm.run(qc)\n",
    "circuit_isa.draw(output=\"mpl\", idle_wires=False, style=\"iqp\")  \n",
    "# Create a sampler instance\n",
    "sampler = Sampler(mode=backend)\n",
    "# Sample the transpiled circuit\n",
    "job = sampler.run([circuit_isa], shots=1024)\n",
    "print(f\"Job ID: {job.job_id()}\")\n"
   ]
  },
  {
   "cell_type": "code",
   "execution_count": null,
   "id": "bd0b3ddf",
   "metadata": {},
   "outputs": [],
   "source": [
    "#job = service.job('d1h5ee5qbivc73edqcp0')\n",
    "\n",
    "result = job.result()\n",
    "#print(f\"{result[0].data}\")\n",
    "# Get the counts (measurement results)\n",
    "counts = result[0].data.meas.get_counts()\n",
    "\n",
    "# Print the results\n",
    "print(\"Measurement results:\", counts) \n",
    "# Optionally, visualize the results\n",
    "plot_histogram(counts).show()"
   ]
  }
 ],
 "metadata": {
  "kernelspec": {
   "display_name": "Python 3 (ipykernel)",
   "language": "python",
   "name": "python3"
  },
  "language_info": {
   "codemirror_mode": {
    "name": "ipython",
    "version": 3
   },
   "file_extension": ".py",
   "mimetype": "text/x-python",
   "name": "python",
   "nbconvert_exporter": "python",
   "pygments_lexer": "ipython3",
   "version": "3.13.5"
  }
 },
 "nbformat": 4,
 "nbformat_minor": 5
}
